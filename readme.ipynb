{
 "cells": [
  {
   "cell_type": "markdown",
   "metadata": {},
   "source": [
    "# Análisis S&P500\n",
    "\n",
    "Un análisis del SP500 en el periodo 2000-2021 donde se pretende dar respuesta a las siguientes preguntas:\n",
    "\n",
    "+ Cual fue el mejor día para invertir teniendo en cuenta el retorno de los movimiento gap?\n",
    "\n",
    "+ Cual fue el mejor día para invertir teniendo en cuenta el retorno de los movimientos intradiarios?\n",
    "\n",
    "+ Cuales fueron las mejores industrias que pertenecen al SP500 en las cuales se puede invertir?\n",
    "\n",
    "+ Cuales fueron los momentos de alta volatilidad que afectaron al SP500?\n",
    "\n",
    "+ Cuales fueron las 9 mejores empresas para invertir?"
   ]
  },
  {
   "cell_type": "code",
   "execution_count": 3,
   "metadata": {},
   "outputs": [],
   "source": [
    "#Importamos las librerias que vamos a utilizar para el análisis:\n",
    "import pandas as pd\n",
    "import numpy as np\n",
    "import yfinance as yf\n",
    "import bs4 as bs\n",
    "import requests\n",
    "import datetime\n",
    "import matplotlib.pyplot as plt\n",
    "import seaborn as sb\n",
    "import plotly.express as px"
   ]
  },
  {
   "cell_type": "markdown",
   "metadata": {},
   "source": [
    "### Cual fue el mejor día para invertir teniendo en cuenta el retorno de los movimiento gap?\n",
    "\n",
    "\n"
   ]
  },
  {
   "cell_type": "code",
   "execution_count": 9,
   "metadata": {},
   "outputs": [
    {
     "name": "stdout",
     "output_type": "stream",
     "text": [
      "[*********************100%***********************]  1 of 1 completed\n"
     ]
    },
    {
     "data": {
      "text/html": [
       "<div>\n",
       "<style scoped>\n",
       "    .dataframe tbody tr th:only-of-type {\n",
       "        vertical-align: middle;\n",
       "    }\n",
       "\n",
       "    .dataframe tbody tr th {\n",
       "        vertical-align: top;\n",
       "    }\n",
       "\n",
       "    .dataframe thead th {\n",
       "        text-align: right;\n",
       "    }\n",
       "</style>\n",
       "<table border=\"1\" class=\"dataframe\">\n",
       "  <thead>\n",
       "    <tr style=\"text-align: right;\">\n",
       "      <th>Day</th>\n",
       "      <th>0</th>\n",
       "      <th>1</th>\n",
       "      <th>2</th>\n",
       "      <th>3</th>\n",
       "      <th>4</th>\n",
       "    </tr>\n",
       "  </thead>\n",
       "  <tbody>\n",
       "    <tr>\n",
       "      <th>retornos_gaps</th>\n",
       "      <td>0.01</td>\n",
       "      <td>0.06</td>\n",
       "      <td>0.01</td>\n",
       "      <td>0.02</td>\n",
       "      <td>-0.01</td>\n",
       "    </tr>\n",
       "  </tbody>\n",
       "</table>\n",
       "</div>"
      ],
      "text/plain": [
       "Day               0     1     2     3     4\n",
       "retornos_gaps  0.01  0.06  0.01  0.02 -0.01"
      ]
     },
     "execution_count": 9,
     "metadata": {},
     "output_type": "execute_result"
    }
   ],
   "source": [
    "#Descargamos las cotizaciones historicas del S&P500 mediante yfinance:\n",
    "sp500 = yf.download(\"SPY\", start=\"2000-01-01\", end=\"2021-12-31\")\n",
    "\n",
    "#Seteamos \"Date\" como índice:\n",
    "sp500[\"Date\"] = sp500.index\n",
    "\n",
    "# Creamos la columna \"Day\" con el dia de la semana al que corresponde cada registro:\n",
    "sp500[\"Day\"] = sp500[\"Date\"].dt.dayofweek\n",
    "\n",
    "# Creamos la columna \"retornos_gaps\" con las variaciones entre el cierre y la apertura siguiente:\n",
    "sp500[\"retornos_gaps\"] = np.log(sp500[\"Open\"]/sp500[\"Close\"].shift(1)).fillna(0)\n",
    "\n",
    "# Establecemos un nuevo dataframe con los promedios de la columna \"retornos_gaps\" agrupados por día:\n",
    "ret_sp = pd.DataFrame(sp500.groupby('Day')['retornos_gaps'].mean())\n",
    "\n",
    "# Realizamos modificaciones al dataframe para una mejor visualización:\n",
    "ret_sp['retornos_gaps'] = round(ret_sp['retornos_gaps']*100,2)\n",
    "ret_sp = ret_sp.transpose()\n",
    "ret_sp"
   ]
  },
  {
   "cell_type": "code",
   "execution_count": 10,
   "metadata": {},
   "outputs": [
    {
     "data": {
      "image/png": "[encoded data removed]",
      "text/plain": [
       "<Figure size 792x648 with 2 Axes>"
      ]
     },
     "metadata": {
      "needs_background": "light"
     },
     "output_type": "display_data"
    }
   ],
   "source": [
    "# figura:\n",
    "fig, ax = plt.subplots(figsize=(11, 9))\n",
    "\n",
    "# plot heatmap:\n",
    "sb.heatmap(ret_sp, cmap=sb.diverging_palette(10, 130, n=11), vmin= -0.1, vmax=0.1, square=True,\n",
    "           linewidth=0.3, annot=True , cbar_kws={\"shrink\": .8})\n",
    "\n",
    "# xticks\n",
    "ax.xaxis.tick_top()\n",
    "xticks_labels = ['Lunes', 'Martes', 'Miercoles', 'Jueves', 'Viernes']\n",
    "plt.xticks(np.arange(5) + .5, labels=xticks_labels)\n",
    "\n",
    "# axis labels\n",
    "plt.xlabel('')\n",
    "plt.ylabel('')\n",
    "\n",
    "# title\n",
    "title = 'Historial daily average gap returns of S&P500 \\n'\n",
    "plt.title(title, loc='left')\n",
    "plt.show()"
   ]
  },
  {
   "cell_type": "markdown",
   "metadata": {},
   "source": [
    "Según el analisis realizado, si bien las diferencias no son significativas, el mejor día para invertir solo teniendo en cuenta los rendimientos gap es el martes, con un retorno promedio en el periodo bajo estudio de 0.06%. Por otro lado, el peor dia para realizar esta estrategia es el viernes, con un retorno promedio en el periodo bajo estudio de un -0.01%."
   ]
  },
  {
   "cell_type": "markdown",
   "metadata": {},
   "source": [
    "Si bien la estrategia \"buy the close, sell the open\" parece funcionar en la teoría, se deben tener en cuenta varios factores que merman drasticamente sus resultados:"
   ]
  },
  {
   "cell_type": "markdown",
   "metadata": {},
   "source": [
    "![buy the close sell the open strategy](https://github.com/facundoallia/analisisSP500/blob/main/asset/strategy.png?raw=true)"
   ]
  },
  {
   "cell_type": "markdown",
   "metadata": {},
   "source": [
    "* Deslizamiento o Slippage: Hace referencia a la diferencia entre el precio al que se ordena una operación y el precio al que se ejecuta finalmente. Es poco probable operar al mejor precio en la apertura, principalmente cuando se producen eventos de volatilidad o se operan activos poco liquidos.\n",
    "\n",
    "* Costo operativo: La estrategia sobreopera llevando a incurrir en costos operativos elevados. Si se tiene en consideración una comisión de 0.01% la estrategia deja de ser rentable, por lo que se recomendaría un contratar un servicio con esquema de comisiones flat fee en caso de implementarla.\n",
    "\n",
    "* Por ultimo la estrategia no tiene en cuenta métricas de exposición al riesgo: Operar acciones individuales mediante esta estrategia podría exponernos a un riesgo muy elevado, principalmente en las ruedas previas a la presentación de resultados o eventos significativos para la empresa en cuestión. Aplicar la estrategia en índices o carteras bien diversificadas (con correlación baja entre sus activos) reduciria notablemente la exposición al riesgo no sistemático."
   ]
  },
  {
   "cell_type": "markdown",
   "metadata": {},
   "source": [
    "### Cual fue el mejor día para invertir teniendo en cuenta el retorno de los movimientos intradiarios?\n"
   ]
  },
  {
   "cell_type": "code",
   "execution_count": 102,
   "metadata": {},
   "outputs": [
    {
     "data": {
      "text/html": [
       "<div>\n",
       "<style scoped>\n",
       "    .dataframe tbody tr th:only-of-type {\n",
       "        vertical-align: middle;\n",
       "    }\n",
       "\n",
       "    .dataframe tbody tr th {\n",
       "        vertical-align: top;\n",
       "    }\n",
       "\n",
       "    .dataframe thead th {\n",
       "        text-align: right;\n",
       "    }\n",
       "</style>\n",
       "<table border=\"1\" class=\"dataframe\">\n",
       "  <thead>\n",
       "    <tr style=\"text-align: right;\">\n",
       "      <th>Day</th>\n",
       "      <th>0</th>\n",
       "      <th>1</th>\n",
       "      <th>2</th>\n",
       "      <th>3</th>\n",
       "      <th>4</th>\n",
       "    </tr>\n",
       "  </thead>\n",
       "  <tbody>\n",
       "    <tr>\n",
       "      <th>retornos_gaps</th>\n",
       "      <td>0.01000</td>\n",
       "      <td>0.06000</td>\n",
       "      <td>0.01000</td>\n",
       "      <td>0.02000</td>\n",
       "      <td>-0.01000</td>\n",
       "    </tr>\n",
       "    <tr>\n",
       "      <th>retornos_intra</th>\n",
       "      <td>0.00000</td>\n",
       "      <td>0.00000</td>\n",
       "      <td>0.02000</td>\n",
       "      <td>0.01000</td>\n",
       "      <td>-0.03000</td>\n",
       "    </tr>\n",
       "  </tbody>\n",
       "</table>\n",
       "</div>"
      ],
      "text/plain": [
       "Day                  0       1       2       3        4\n",
       "retornos_gaps  0.01000 0.06000 0.01000 0.02000 -0.01000\n",
       "retornos_intra 0.00000 0.00000 0.02000 0.01000 -0.03000"
      ]
     },
     "execution_count": 102,
     "metadata": {},
     "output_type": "execute_result"
    }
   ],
   "source": [
    "# Definimos la columna \"retornos_intra\" para los rendimientos intradiarios\n",
    "sp500[\"retornos_intra\"] = np.log(sp500[\"Close\"]/sp500[\"Open\"]).fillna(0)\n",
    "\n",
    "# Añadimos el promedio de los rendimientos intradiarios agrupados por dia al dataframe \"ret_sp\"\n",
    "ret_sp = ret_sp.transpose()\n",
    "ret_sp['retornos_intra'] = pd.DataFrame(sp500.groupby('Day')['retornos_intra'].mean())\n",
    "ret_sp['retornos_intra'] = round(ret_sp['retornos_intra']*100,2)\n",
    "ret_sp = ret_sp.transpose()\n",
    "ret_sp"
   ]
  },
  {
   "cell_type": "code",
   "execution_count": 81,
   "metadata": {},
   "outputs": [
    {
     "data": {
      "image/png": "[encoded data removed]",
      "text/plain": [
       "<Figure size 792x648 with 2 Axes>"
      ]
     },
     "metadata": {
      "needs_background": "light"
     },
     "output_type": "display_data"
    }
   ],
   "source": [
    "# figure\n",
    "fig, ax = plt.subplots(figsize=(11, 9))\n",
    "# plot heatmap\n",
    "sb.heatmap(ret_sp, cmap=sb.diverging_palette(10, 130, n=11), vmin= -0.1, vmax=0.1, square=True,\n",
    "           linewidth=0.3, annot=True , cbar_kws={\"shrink\": .8})\n",
    "# xticks\n",
    "ax.xaxis.tick_top()\n",
    "xticks_labels = ['Lunes', 'Martes', 'Miercoles', 'Jueves', 'Viernes']\n",
    "yticks_labels = ['Promedio de retornos overnight', 'Promedio de retornos intraday']\n",
    "\n",
    "plt.xticks(np.arange(5) + .5, labels=xticks_labels)\n",
    "# axis labels\n",
    "plt.xlabel('')\n",
    "plt.ylabel('')\n",
    "# title\n",
    "title = 'Historial daily average returns of S&P500. Period: 2000-2021 \\n'\n",
    "plt.title(title, loc='left')\n",
    "plt.show()"
   ]
  },
  {
   "cell_type": "markdown",
   "metadata": {},
   "source": [
    "Las mismas consideraciones que fueron presentadas para la estrategia \"buy the close, sell the open\" deben ser tenidas en cuenta para la segunda estrategia"
   ]
  },
  {
   "cell_type": "markdown",
   "metadata": {},
   "source": [
    "### Cuales fueron las 9 mejores empresas para invertir?"
   ]
  },
  {
   "cell_type": "markdown",
   "metadata": {},
   "source": [
    "Para determinar las mejores empresas para invertir en el periodo bajo estudio analizaremos los retornos historicos de las acciones que componen el índice S&P500:"
   ]
  },
  {
   "cell_type": "code",
   "execution_count": 121,
   "metadata": {},
   "outputs": [
    {
     "name": "stdout",
     "output_type": "stream",
     "text": [
      "[*********************100%***********************]  503 of 503 completed\n",
      "\n",
      "1 Failed download:\n",
      "- CEG: Data doesn't exist for startDate = 946695600, endDate = 1640919600\n"
     ]
    }
   ],
   "source": [
    "#Obtenemos la lista de tickers de las empresas que componenen el SP&500 mediante scraping:\n",
    "resp = requests.get('http://en.wikipedia.org/wiki/List_of_S%26P_500_companies')\n",
    "soup = bs.BeautifulSoup(resp.text, 'lxml')\n",
    "table = soup.find('table', {'class': 'wikitable sortable'})\n",
    "tickers = []\n",
    "for row in table.findAll('tr')[1:]:\n",
    "    ticker = row.findAll('td')[0].text\n",
    "    tickers.append(ticker)\n",
    "tickers = [s.replace('\\n', '') for s in tickers]\n",
    "tickers = [s.replace('.', '-') for s in tickers]\n",
    "\n",
    "#Seteamos los valores de fecha y descargamos las cotizaciones de todos los tickers por medio de la libreria yfinance:\n",
    "start = datetime.datetime(2000,1,1)\n",
    "end = datetime.datetime(2021,12,31)\n",
    "data = yf.download(tickers, start=start, end=end)"
   ]
  },
  {
   "cell_type": "code",
   "execution_count": 122,
   "metadata": {},
   "outputs": [
    {
     "name": "stdout",
     "output_type": "stream",
     "text": [
      "        Date Adj Close                                                    ...  \\\n",
      "                     A AAL AAP    AAPL ABBV     ABC     ABMD     ABT ACN  ...   \n",
      "0 1999-12-31       NaN NaN NaN     NaN  NaN     NaN      NaN     NaN NaN  ...   \n",
      "1 2000-01-03  44.22135 NaN NaN 0.85454  NaN 3.01669 18.25000 9.34785 NaN  ...   \n",
      "2 2000-01-04  40.84332 NaN NaN 0.78249  NaN 2.81073 17.81250 9.08077 NaN  ...   \n",
      "3 2000-01-05  38.30980 NaN NaN 0.79394  NaN 3.02881 18.00000 9.06407 NaN  ...   \n",
      "4 2000-01-06  36.85111 NaN NaN 0.72524  NaN 3.25900 18.03125 9.38123 NaN  ...   \n",
      "\n",
      "  Volume                                                                   \\\n",
      "    WYNN           XEL            XOM          XRAY XYL           YUM ZBH   \n",
      "0    NaN           NaN            NaN           NaN NaN           NaN NaN   \n",
      "1    NaN 2738600.00000 13458200.00000  582300.00000 NaN 3033493.00000 NaN   \n",
      "2    NaN  425200.00000 14510800.00000  317700.00000 NaN 3315031.00000 NaN   \n",
      "3    NaN  500200.00000 17485000.00000 1188000.00000 NaN 4642602.00000 NaN   \n",
      "4    NaN  344100.00000 19461600.00000  534300.00000 NaN 3947658.00000 NaN   \n",
      "\n",
      "                                   \n",
      "           ZBRA          ZION ZTS  \n",
      "0           NaN           NaN NaN  \n",
      "1 1055700.00000 1199600.00000 NaN  \n",
      "2  522450.00000  816100.00000 NaN  \n",
      "3  612225.00000 1124700.00000 NaN  \n",
      "4  263925.00000 1112100.00000 NaN  \n",
      "\n",
      "[5 rows x 3019 columns]\n"
     ]
    }
   ],
   "source": [
    "# Reseteamos el índice para obtener las fechas en columna y eliminamos los registros que no corresponden:\n",
    "data = data.reset_index()\n",
    "data = data.drop(data.index[[5535,5536]])\n",
    "\n",
    "print(data.head(5))"
   ]
  },
  {
   "cell_type": "code",
   "execution_count": null,
   "metadata": {},
   "outputs": [
    {
     "data": {
      "text/html": [
       "<div>\n",
       "<style scoped>\n",
       "    .dataframe tbody tr th:only-of-type {\n",
       "        vertical-align: middle;\n",
       "    }\n",
       "\n",
       "    .dataframe tbody tr th {\n",
       "        vertical-align: top;\n",
       "    }\n",
       "\n",
       "    .dataframe thead th {\n",
       "        text-align: right;\n",
       "    }\n",
       "</style>\n",
       "<table border=\"1\" class=\"dataframe\">\n",
       "  <thead>\n",
       "    <tr style=\"text-align: right;\">\n",
       "      <th></th>\n",
       "      <th>Tickers</th>\n",
       "      <th>Cumulative final return</th>\n",
       "    </tr>\n",
       "  </thead>\n",
       "  <tbody>\n",
       "    <tr>\n",
       "      <th>305</th>\n",
       "      <td>MNST</td>\n",
       "      <td>1061.72917</td>\n",
       "    </tr>\n",
       "    <tr>\n",
       "      <th>327</th>\n",
       "      <td>NFLX</td>\n",
       "      <td>511.59745</td>\n",
       "    </tr>\n",
       "    <tr>\n",
       "      <th>346</th>\n",
       "      <td>ODFL</td>\n",
       "      <td>367.41974</td>\n",
       "    </tr>\n",
       "    <tr>\n",
       "      <th>339</th>\n",
       "      <td>NVDA</td>\n",
       "      <td>330.24365</td>\n",
       "    </tr>\n",
       "    <tr>\n",
       "      <th>446</th>\n",
       "      <td>TSCO</td>\n",
       "      <td>271.74698</td>\n",
       "    </tr>\n",
       "    <tr>\n",
       "      <th>447</th>\n",
       "      <td>TSLA</td>\n",
       "      <td>224.01423</td>\n",
       "    </tr>\n",
       "    <tr>\n",
       "      <th>3</th>\n",
       "      <td>AAPL</td>\n",
       "      <td>207.96210</td>\n",
       "    </tr>\n",
       "    <tr>\n",
       "      <th>244</th>\n",
       "      <td>ISRG</td>\n",
       "      <td>179.16163</td>\n",
       "    </tr>\n",
       "    <tr>\n",
       "      <th>232</th>\n",
       "      <td>IDXX</td>\n",
       "      <td>164.68669</td>\n",
       "    </tr>\n",
       "    <tr>\n",
       "      <th>36</th>\n",
       "      <td>ANSS</td>\n",
       "      <td>146.68655</td>\n",
       "    </tr>\n",
       "  </tbody>\n",
       "</table>\n",
       "</div>"
      ],
      "text/plain": [
       "    Tickers  Cumulative final return\n",
       "305    MNST               1061.72917\n",
       "327    NFLX                511.59745\n",
       "346    ODFL                367.41974\n",
       "339    NVDA                330.24365\n",
       "446    TSCO                271.74698\n",
       "447    TSLA                224.01423\n",
       "3      AAPL                207.96210\n",
       "244    ISRG                179.16163\n",
       "232    IDXX                164.68669\n",
       "36     ANSS                146.68655"
      ]
     },
     "execution_count": 76,
     "metadata": {},
     "output_type": "execute_result"
    }
   ],
   "source": [
    "# Creamos un dataframe que contiene el porcentaje de cambio diario de cada acción:\n",
    "multpl_stock_daily_returns = data['Adj Close'].pct_change()\n",
    "multpl_stock_daily_returns.set_index(data[\"Date\"])\n",
    "\n",
    "# Definimos un dataframe que contiene el porcentaje de cambio diario de cada acción acumulado:\n",
    "sp500_cum_ret = (multpl_stock_daily_returns + 1).cumprod()\n",
    "\n",
    "# Obtenemos otro dataframe con el retorno acumulado al final del periódo bajo estudio:\n",
    "cum_final_ret = sp500_cum_ret.loc[[5534]]\n",
    "cum_final_ret = cum_final_ret.transpose()\n",
    "cum_final_ret = cum_final_ret.reset_index()\n",
    "cum_final_ret.columns = [\"Tickers\",\"Cumulative final return\"]\n",
    "\n",
    "# Ordenamos los datos por la columna\"Cumulative final return\" obteniendo un ranking con las 9 empresas con mayores retornos:\n",
    "cum_final_ret = cum_final_ret.sort_values(\"Cumulative final return\", ascending=False)\n",
    "cum_final_ret.head(9)"
   ]
  },
  {
   "cell_type": "markdown",
   "metadata": {},
   "source": [
    "Obtenemos así las 9 mejores empresas para haber invertido en el periodo bajo estudio. Si hubieramos invertido en Monster al inicio del periodo hubieramos multiplicado nuestra inversión por mas de 1000"
   ]
  },
  {
   "cell_type": "markdown",
   "metadata": {},
   "source": [
    "![best stocks of SP500 index 2000-2021 period](https://github.com/facundoallia/analisisSP500/blob/main/asset/top_stocks.png?raw=true)"
   ]
  },
  {
   "cell_type": "markdown",
   "metadata": {},
   "source": [
    "### Cuales fueron las mejores industrias que pertenecen al SP500 en las cuales se puede invertir?"
   ]
  },
  {
   "cell_type": "markdown",
   "metadata": {},
   "source": [
    "Para responder esta pregunta agruparemos las acciones del S&P500 en los 11 sectores en los que se divide y compararemos sus retornos acumulados en el período analizado:"
   ]
  },
  {
   "cell_type": "code",
   "execution_count": 63,
   "metadata": {},
   "outputs": [
    {
     "data": {
      "text/html": [
       "<div>\n",
       "<style scoped>\n",
       "    .dataframe tbody tr th:only-of-type {\n",
       "        vertical-align: middle;\n",
       "    }\n",
       "\n",
       "    .dataframe tbody tr th {\n",
       "        vertical-align: top;\n",
       "    }\n",
       "\n",
       "    .dataframe thead th {\n",
       "        text-align: right;\n",
       "    }\n",
       "</style>\n",
       "<table border=\"1\" class=\"dataframe\">\n",
       "  <thead>\n",
       "    <tr style=\"text-align: right;\">\n",
       "      <th></th>\n",
       "      <th>Sectors</th>\n",
       "      <th>Average cumulative final return by sector</th>\n",
       "    </tr>\n",
       "  </thead>\n",
       "  <tbody>\n",
       "    <tr>\n",
       "      <th>2</th>\n",
       "      <td>Consumer Staples</td>\n",
       "      <td>42.31733</td>\n",
       "    </tr>\n",
       "    <tr>\n",
       "      <th>1</th>\n",
       "      <td>Consumer Discretionary</td>\n",
       "      <td>34.10908</td>\n",
       "    </tr>\n",
       "    <tr>\n",
       "      <th>0</th>\n",
       "      <td>Communication Services</td>\n",
       "      <td>30.85288</td>\n",
       "    </tr>\n",
       "    <tr>\n",
       "      <th>5</th>\n",
       "      <td>Health Care</td>\n",
       "      <td>29.73554</td>\n",
       "    </tr>\n",
       "    <tr>\n",
       "      <th>7</th>\n",
       "      <td>Information Technology</td>\n",
       "      <td>25.79638</td>\n",
       "    </tr>\n",
       "    <tr>\n",
       "      <th>6</th>\n",
       "      <td>Industrials</td>\n",
       "      <td>22.45885</td>\n",
       "    </tr>\n",
       "    <tr>\n",
       "      <th>9</th>\n",
       "      <td>Real Estate</td>\n",
       "      <td>17.08185</td>\n",
       "    </tr>\n",
       "    <tr>\n",
       "      <th>8</th>\n",
       "      <td>Materials</td>\n",
       "      <td>14.30898</td>\n",
       "    </tr>\n",
       "    <tr>\n",
       "      <th>4</th>\n",
       "      <td>Financials</td>\n",
       "      <td>12.28338</td>\n",
       "    </tr>\n",
       "    <tr>\n",
       "      <th>10</th>\n",
       "      <td>Utilities</td>\n",
       "      <td>10.06246</td>\n",
       "    </tr>\n",
       "    <tr>\n",
       "      <th>3</th>\n",
       "      <td>Energy</td>\n",
       "      <td>9.06091</td>\n",
       "    </tr>\n",
       "  </tbody>\n",
       "</table>\n",
       "</div>"
      ],
      "text/plain": [
       "                   Sectors  Average cumulative final return by sector\n",
       "2         Consumer Staples                                   42.31733\n",
       "1   Consumer Discretionary                                   34.10908\n",
       "0   Communication Services                                   30.85288\n",
       "5              Health Care                                   29.73554\n",
       "7   Information Technology                                   25.79638\n",
       "6              Industrials                                   22.45885\n",
       "9              Real Estate                                   17.08185\n",
       "8                Materials                                   14.30898\n",
       "4               Financials                                   12.28338\n",
       "10               Utilities                                   10.06246\n",
       "3                   Energy                                    9.06091"
      ]
     },
     "execution_count": 63,
     "metadata": {},
     "output_type": "execute_result"
    }
   ],
   "source": [
    "# Definimos la serie \"sectors\" donde introducimos los sectores a los que pertenece cada empresa mediante scrapping\n",
    "sectors = []\n",
    "for row in table.findAll('tr')[1:]:\n",
    "    sector = row.findAll('td')[3].text\n",
    "    sectors.append(sector)\n",
    "\n",
    "# Creamos el dataframe \"df_sectors\" donde asociamos cada sector a su ticker y su retorno acumulado del período:\n",
    "df_sectors = pd.DataFrame(list(zip(tickers,sectors)), columns=[\"Tickers\",\"Sectors\"])\n",
    "df_sectors = df_sectors.merge(cum_final_ret)\n",
    "\n",
    "# Obtenemos el promedio de los retornos acumulados por sector y ordenamos el dataframe para obtener un ranking:\n",
    "top_sectors = pd.DataFrame(df_sectors.groupby([\"Sectors\"])[\"Cumulative final return\"].mean())\n",
    "top_sectors = top_sectors.reset_index()\n",
    "top_sectors.columns = [\"Sectors\",\"Average cumulative final return by sector\"]\n",
    "top_sectors = top_sectors.sort_values(\"Average cumulative final return by sector\",ascending=False)\n",
    "top_sectors"
   ]
  },
  {
   "cell_type": "markdown",
   "metadata": {},
   "source": [
    "![best sectors of SP500 index 2000-2021 period](https://github.com/facundoallia/analisisSP500/blob/main/asset/sectors.png?raw=true)"
   ]
  },
  {
   "cell_type": "markdown",
   "metadata": {},
   "source": [
    "El sector que presento mejores resultados en el período analizado es \"Consumer Staples\" seguido por \"Consumer Discretionary\" y \"Communication Services\". Por otro lado los sectores que menos rentabilidad ofrecieron fueron \"Financials\", \"Utilities\" y \"Energy\""
   ]
  },
  {
   "cell_type": "markdown",
   "metadata": {},
   "source": [
    "### Cuales fueron los momentos de alta volatilidad que afectaron al SP500?"
   ]
  },
  {
   "cell_type": "markdown",
   "metadata": {},
   "source": [
    "Para determinar los momentode de alta volatilidad que afectaron al S&P500 podemos utilizar el índice VIX. El índice de volatilidad VIX es un indicador que muestra la volatilidad esperada a corto plazo en los mercados financieros de Estados Unidos. Se construye con una cartera ponderada de opciones call y opciones put sobre el índice americano S&P 500 (SPX). "
   ]
  },
  {
   "cell_type": "code",
   "execution_count": 114,
   "metadata": {},
   "outputs": [
    {
     "name": "stdout",
     "output_type": "stream",
     "text": [
      "[*********************100%***********************]  1 of 1 completed\n"
     ]
    }
   ],
   "source": [
    "# Descargamos las cotizaciones historicas del índice VIX mediante yfinance:\n",
    "vix = yf.download(\"^VIX\", start=\"2000-01-01\", end=\"2021-12-31\")\n",
    "\n",
    "# Reseteamos el índice del dataframe y eliminamos las columnas innecesarias\n",
    "vix = vix.reset_index()\n",
    "vix = vix.drop(\"Open\",axis=1)\n",
    "vix = vix.drop(\"High\",axis=1)\n",
    "vix = vix.drop(\"Low\",axis=1)\n",
    "vix = vix.drop(\"Volume\",axis=1)\n",
    "\n",
    "# Graficamos para visualizar los periodos de alta volatilidad\n",
    "fig = px.line(vix, x='Date', y=vix.columns)\n",
    "fig.show()\n",
    "fig.write_html('vix.html', auto_open=True)"
   ]
  },
  {
   "cell_type": "markdown",
   "metadata": {},
   "source": [
    "![high volatily periods of SP500 index 2000-2021 ](https://github.com/facundoallia/analisisSP500/blob/main/asset/vix.png?raw=true)"
   ]
  },
  {
   "cell_type": "markdown",
   "metadata": {},
   "source": [
    " Podemos deducir los cambios de régimen de volatilidad estableciendo como valor significativo de 40 puntos. El valor que toma el VIX es la volatilidad que esperan experimentar los inversores para el índice SPX en un período de 30 días. Por lo tanto, cuando el VIX toma valores superiores a 40 puntos, el mercado espera que el índice S&P500 tenga una volatilidad de al menos 40% en los proximos 30 dias. Esta situación se da en 7 momentos en el período analizado:\n",
    "\n",
    " + Septiembre 2001: Atentado 9/11 \n",
    "\n",
    " + Julio 2002: Piso de la caída de la crisis punto com\n",
    " \n",
    " + 2008-2009: Gran crisis de deuda subprime\n",
    "\n",
    " + Mayo 2010: Resago de la crisis subprime\n",
    "\n",
    " + Agosto 2011: Crisis eurozona\n",
    "\n",
    " + Agosto 2015: Suba de tipos de interes\n",
    " \n",
    " + Febrero 2020: Crisis Covid-19"
   ]
  }
 ],
 "metadata": {
  "kernelspec": {
   "display_name": "Python 3.10.2 64-bit",
   "language": "python",
   "name": "python3"
  },
  "language_info": {
   "codemirror_mode": {
    "name": "ipython",
    "version": 3
   },
   "file_extension": ".py",
   "mimetype": "text/x-python",
   "name": "python",
   "nbconvert_exporter": "python",
   "pygments_lexer": "ipython3",
   "version": "3.10.2"
  },
  "orig_nbformat": 4,
  "vscode": {
   "interpreter": {
    "hash": "b5d04f6d8a329d95987b154106802e5cf109483b394daa4f9d4f080f051e1734"
   }
  }
 },
 "nbformat": 4,
 "nbformat_minor": 2
}
