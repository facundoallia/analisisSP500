# Análisis S&P500

Un análisis del SP500 en el periodo 2000-2021 donde se pretende dar respuesta a las siguientes preguntas:

+ Cual fue el mejor día para invertir teniendo en cuenta el retorno de los movimiento gap?

+ Cual fue el mejor día para invertir teniendo en cuenta el retorno de los movimientos intradiarios?

+ Cuales fueron las mejores industrias que pertenecen al SP500 en las cuales se puede invertir?

+ Cuales fueron los momentos de alta volatilidad que afectaron al SP500?

+ Cuales fueron las 9 mejores empresas para invertir?
